{
 "cells": [
  {
   "cell_type": "code",
   "execution_count": 1,
   "metadata": {},
   "outputs": [],
   "source": [
    "\n",
    "import urllib.request\n",
    "import urllib.parse\n",
    "import re\n",
    "import webbrowser"
   ]
  },
  {
   "cell_type": "code",
   "execution_count": 2,
   "metadata": {},
   "outputs": [],
   "source": [
    "# to search \n",
    "query = \"ronaldo vs inter milan\""
   ]
  },
  {
   "cell_type": "code",
   "execution_count": 1,
   "metadata": {},
   "outputs": [],
   "source": [
    "def video_play(query):\n",
    "    query_string = urllib.parse.urlencode({\"search_query\" : query})\n",
    "    check='yes'\n",
    "    if \"yes\" in check.lower() or (\"play\" in check.lower() and \"don't\" not in check.lower()):\n",
    "        html_content = urllib.request.urlopen(\"http://www.youtube.com/results?\" + query_string)\n",
    "        search_results = re.findall(r'href=\\\"\\/watch\\?v=(.{11})', html_content.read().decode())\n",
    "        link =\"http://www.youtube.com/watch?v=\" + search_results[0]\n",
    "        webbrowser.open(link)\n",
    "    else:\n",
    "        print(\"Do something else\")\n"
   ]
  },
  {
   "cell_type": "code",
   "execution_count": 4,
   "metadata": {},
   "outputs": [
    {
     "name": "stdout",
     "output_type": "stream",
     "text": [
      "Should i play the video for you?yes\n"
     ]
    }
   ],
   "source": [
    "#video_play(query)"
   ]
  },
  {
   "cell_type": "code",
   "execution_count": null,
   "metadata": {},
   "outputs": [],
   "source": []
  }
 ],
 "metadata": {
  "kernelspec": {
   "display_name": "Python 3",
   "language": "python",
   "name": "python3"
  },
  "language_info": {
   "codemirror_mode": {
    "name": "ipython",
    "version": 3
   },
   "file_extension": ".py",
   "mimetype": "text/x-python",
   "name": "python",
   "nbconvert_exporter": "python",
   "pygments_lexer": "ipython3",
   "version": "3.7.6"
  }
 },
 "nbformat": 4,
 "nbformat_minor": 2
}
