{
 "cells": [
  {
   "cell_type": "code",
   "execution_count": 1,
   "metadata": {},
   "outputs": [
    {
     "name": "stdout",
     "output_type": "stream",
     "text": [
      "Loading model...\n"
     ]
    },
    {
     "name": "stderr",
     "output_type": "stream",
     "text": [
      "\n"
     ]
    }
   ],
   "source": [
    "from intents import *\n",
    "import pyautogui"
   ]
  },
  {
   "cell_type": "markdown",
   "metadata": {},
   "source": [
    "Creating small commands"
   ]
  },
  {
   "cell_type": "code",
   "execution_count": 6,
   "metadata": {},
   "outputs": [],
   "source": [
    "query='reduce volume' #add a string"
   ]
  },
  {
   "cell_type": "code",
   "execution_count": 7,
   "metadata": {},
   "outputs": [],
   "source": [
    "if query=='play'or query=='pause':\n",
    "    pyautogui.press('playpause')\n",
    "elif query=='reduce volume':\n",
    "    for i in range(5):\n",
    "        pyautogui.press('volumedown')\n",
    "elif query=='increase volume':\n",
    "    for i in range(5):\n",
    "        pyautogui.press('volumeup')\n",
    "elif query=='mute':\n",
    "    pyautogui.press('volumemute')\n",
    "elif query=='do a search':\n",
    "    pyautogui.press('browsersearch')\n",
    "else:\n",
    "    response=set_reply(query)\n"
   ]
  },
  {
   "cell_type": "markdown",
   "metadata": {},
   "source": [
    "from gtts import gTTS \n",
    "import playsound  \n",
    "\n",
    "  \n",
    " # The text that you want to convert to audio \n",
    "mytext = 'Welcome to geeksforgeeks!'\n",
    "  \n",
    "# Language in which you want to convert \n",
    "language = 'en'\n",
    "  \n",
    "# Passing the text and language to the engine,  \n",
    "# here we have marked slow=False. Which tells  \n",
    "# the module that the converted audio should  \n",
    "# have a high speed \n",
    "#myobj = gTTS(text=mytext, lang=language, slow=False)\n",
    "#filename = 'voice.mp3'\n",
    "#myobj.save(filename)\n",
    "playsound.playsound(filename)"
   ]
  },
  {
   "cell_type": "code",
   "execution_count": null,
   "metadata": {},
   "outputs": [],
   "source": []
  }
 ],
 "metadata": {
  "kernelspec": {
   "display_name": "Python 3",
   "language": "python",
   "name": "python3"
  },
  "language_info": {
   "codemirror_mode": {
    "name": "ipython",
    "version": 3
   },
   "file_extension": ".py",
   "mimetype": "text/x-python",
   "name": "python",
   "nbconvert_exporter": "python",
   "pygments_lexer": "ipython3",
   "version": "3.7.6"
  }
 },
 "nbformat": 4,
 "nbformat_minor": 4
}
