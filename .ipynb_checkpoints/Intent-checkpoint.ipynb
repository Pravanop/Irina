{
 "cells": [
  {
   "cell_type": "code",
   "execution_count": 1,
   "metadata": {},
   "outputs": [],
   "source": [
    "import numpy as np"
   ]
  },
  {
   "cell_type": "code",
   "execution_count": 2,
   "metadata": {},
   "outputs": [
    {
     "name": "stdout",
     "output_type": "stream",
     "text": [
      "Loading model...\n"
     ]
    },
    {
     "name": "stderr",
     "output_type": "stream",
     "text": [
      "\n"
     ]
    }
   ],
   "source": [
    "import sister\n",
    "embedder=sister.MeanEmbedding(lang='en')"
   ]
  },
  {
   "cell_type": "code",
   "execution_count": 3,
   "metadata": {},
   "outputs": [],
   "source": [
    "from scipy.spatial.distance import cosine"
   ]
  },
  {
   "cell_type": "code",
   "execution_count": 29,
   "metadata": {},
   "outputs": [],
   "source": [
    "class Intent:\n",
    "    threshold=0.7 #say\n",
    "    def intent_builder(self,training_phrases):\n",
    "        training_phrase=input(\"Enter a training phase:\")\n",
    "        sent_vector=embedder(training_phrase)\n",
    "        sent_vector=np.array(sent_vector)\n",
    "        sent_vector1=sent_vector.reshape(300,1)\n",
    "        training_phrases1=np.concatenate((training_phrases,sent_vector1))\n",
    "        return training_phrases1\n",
    "    \n",
    "    def intent_searcher(self,testing_phrases,training_phrases):\n",
    "        iteration_count=0\n",
    "        for training_phrase in training_phrases:\n",
    "            cosine_sim= 1 - cosine(training_phrase,training_phrases)\n",
    "            if iteration_count == 0:\n",
    "                cosine_max=cosine_sim\n",
    "            if (cosine_max>cosine_sim):\n",
    "                cosine_max=cosine_sim\n",
    "            iteration_count= iteration_count+1\n",
    "        if (cosine_max>=self.threshold):\n",
    "            return True,cosine_max\n",
    "        else:\n",
    "            return False,0\n",
    "        \n",
    "    \n",
    "            "
   ]
  },
  {
   "cell_type": "code",
   "execution_count": 53,
   "metadata": {},
   "outputs": [],
   "source": [
    "#given a list of intent objects(with function call as attribute). Training phrases already loaded.\n",
    "def intent_matcher(intent_list):\n",
    "    \n",
    "    count=0\n",
    "    cosine_max=0\n",
    "    \n",
    "    for intent in intent_list:\n",
    "        value,vector=intent.intent_searcher(testing_phrase,intent.training_phrases)\n",
    "        if(value):\n",
    "            vector_instance=vector\n",
    "            count=count+1\n",
    "            if (count==1):\n",
    "                vector_max=vector_instance\n",
    "                intent_max=intent\n",
    "            elif (vector_max<vector_instance):\n",
    "                vector_max=vector_instance\n",
    "                intent_max=intent\n",
    "        else: #value is false\n",
    "            continue\n",
    "        count=count+1\n",
    "    return intent_max,vector_max     \n",
    "        \n",
    "    "
   ]
  },
  {
   "cell_type": "code",
   "execution_count": 54,
   "metadata": {},
   "outputs": [],
   "source": [
    "class Stocks(Intent):\n",
    "    def training_phrase_adder_20(self,training_phrases):\n",
    "        for phrase in range(5):\n",
    "             training_phrases=Intent.intent_builder(self,training_phrases)\n",
    "        return training_phrases\n",
    "    "
   ]
  },
  {
   "cell_type": "code",
   "execution_count": 55,
   "metadata": {},
   "outputs": [],
   "source": [
    "stocks=Stocks()"
   ]
  },
  {
   "cell_type": "code",
   "execution_count": 56,
   "metadata": {},
   "outputs": [],
   "source": [
    "training_phrases=embedder('What is the share price of google')\n",
    "training_phrases=training_phrases.reshape(300,1)"
   ]
  },
  {
   "cell_type": "code",
   "execution_count": 61,
   "metadata": {},
   "outputs": [
    {
     "name": "stdout",
     "output_type": "stream",
     "text": [
      "Enter a training phase:lo\n",
      "Enter a training phase:lk\n",
      "Enter a training phase:ik\n",
      "Enter a training phase:ji\n",
      "Enter a training phase:kh\n"
     ]
    }
   ],
   "source": [
    "training_phrases=stocks.training_phrase_adder_20(training_phrases)"
   ]
  },
  {
   "cell_type": "code",
   "execution_count": 57,
   "metadata": {},
   "outputs": [],
   "source": [
    "stocks.training_phrases=training_phrases"
   ]
  },
  {
   "cell_type": "code",
   "execution_count": 58,
   "metadata": {},
   "outputs": [],
   "source": [
    "intent_list=[stocks]"
   ]
  },
  {
   "cell_type": "code",
   "execution_count": 59,
   "metadata": {},
   "outputs": [],
   "source": [
    "testing_phrase='kogog'"
   ]
  },
  {
   "cell_type": "code",
   "execution_count": 60,
   "metadata": {},
   "outputs": [
    {
     "ename": "NameError",
     "evalue": "name 'intent_max' is not defined",
     "output_type": "error",
     "traceback": [
      "\u001b[1;31m---------------------------------------------------------------------------\u001b[0m",
      "\u001b[1;31mNameError\u001b[0m                                 Traceback (most recent call last)",
      "\u001b[1;32m<ipython-input-60-baf213f21d0e>\u001b[0m in \u001b[0;36m<module>\u001b[1;34m\u001b[0m\n\u001b[1;32m----> 1\u001b[1;33m \u001b[0mintent_max\u001b[0m\u001b[1;33m,\u001b[0m\u001b[0mvector_max\u001b[0m\u001b[1;33m=\u001b[0m\u001b[0mintent_matcher\u001b[0m\u001b[1;33m(\u001b[0m\u001b[0mintent_list\u001b[0m\u001b[1;33m)\u001b[0m\u001b[1;33m\u001b[0m\u001b[1;33m\u001b[0m\u001b[0m\n\u001b[0m",
      "\u001b[1;32m<ipython-input-53-67b453103c54>\u001b[0m in \u001b[0;36mintent_matcher\u001b[1;34m(intent_list)\u001b[0m\n\u001b[0;32m     19\u001b[0m             \u001b[1;32mcontinue\u001b[0m\u001b[1;33m\u001b[0m\u001b[1;33m\u001b[0m\u001b[0m\n\u001b[0;32m     20\u001b[0m         \u001b[0mcount\u001b[0m\u001b[1;33m=\u001b[0m\u001b[0mcount\u001b[0m\u001b[1;33m+\u001b[0m\u001b[1;36m1\u001b[0m\u001b[1;33m\u001b[0m\u001b[1;33m\u001b[0m\u001b[0m\n\u001b[1;32m---> 21\u001b[1;33m     \u001b[1;32mreturn\u001b[0m \u001b[0mintent_max\u001b[0m\u001b[1;33m,\u001b[0m\u001b[0mvector_max\u001b[0m\u001b[1;33m\u001b[0m\u001b[1;33m\u001b[0m\u001b[0m\n\u001b[0m\u001b[0;32m     22\u001b[0m \u001b[1;33m\u001b[0m\u001b[0m\n\u001b[0;32m     23\u001b[0m \u001b[1;33m\u001b[0m\u001b[0m\n",
      "\u001b[1;31mNameError\u001b[0m: name 'intent_max' is not defined"
     ]
    }
   ],
   "source": [
    "intent_max,vector_max=intent_matcher(intent_list)"
   ]
  },
  {
   "cell_type": "code",
   "execution_count": null,
   "metadata": {},
   "outputs": [],
   "source": []
  }
 ],
 "metadata": {
  "kernelspec": {
   "display_name": "Python 3",
   "language": "python",
   "name": "python3"
  },
  "language_info": {
   "codemirror_mode": {
    "name": "ipython",
    "version": 3
   },
   "file_extension": ".py",
   "mimetype": "text/x-python",
   "name": "python",
   "nbconvert_exporter": "python",
   "pygments_lexer": "ipython3",
   "version": "3.7.6"
  }
 },
 "nbformat": 4,
 "nbformat_minor": 4
}
