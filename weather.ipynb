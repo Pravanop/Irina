{
 "cells": [
  {
   "cell_type": "code",
   "execution_count": 1,
   "metadata": {},
   "outputs": [],
   "source": [
    "import pyowm"
   ]
  },
  {
   "cell_type": "code",
   "execution_count": 2,
   "metadata": {},
   "outputs": [],
   "source": [
    "api_key = \"e0236bc1ebd99979d60677f3d4aa11cb\"    #Enter your own API Key\n",
    "owm_obj=pyowm.OWM(api_key)"
   ]
  },
  {
   "cell_type": "code",
   "execution_count": 4,
   "metadata": {},
   "outputs": [],
   "source": [
    "obs_obj = owm_obj.weather_at_place('Mumbai')"
   ]
  },
  {
   "cell_type": "code",
   "execution_count": 14,
   "metadata": {},
   "outputs": [
    {
     "name": "stdout",
     "output_type": "stream",
     "text": [
      "{'temp': 32.88, 'temp_max': 35.0, 'temp_min': 31.0, 'temp_kf': None}\n",
      "False\n",
      "True\n",
      "True\n",
      "False\n"
     ]
    },
    {
     "name": "stderr",
     "output_type": "stream",
     "text": [
      "C:\\Users\\Om\\Anaconda3\\envs\\opencv\\lib\\site-packages\\ipykernel_launcher.py:6: DeprecationWarning: \"will_have_sun\" is deprecated. It will be removed on version 3.0.0\n",
      "  \n",
      "C:\\Users\\Om\\Anaconda3\\envs\\opencv\\lib\\site-packages\\ipykernel_launcher.py:10: DeprecationWarning: \"will_be_sunny_at\" is deprecated. It will be removed on version 3.0.0\n",
      "  # Remove the CWD from sys.path while we load stuff.\n"
     ]
    },
    {
     "data": {
      "text/plain": [
       "True"
      ]
     },
     "execution_count": 14,
     "metadata": {},
     "output_type": "execute_result"
    }
   ],
   "source": [
    "weather=obs_obj.get_weather()\n",
    "print(weather.get_temperature(unit='celsius'))\n",
    "obs_obj.get_location()\n",
    "fc = owm_obj.three_hours_forecast('mumbai')\n",
    "print(fc.will_have_rain())\n",
    "print(fc.will_have_sun())\n",
    "print(fc.will_have_clouds())\n",
    "time = \"2020-04-15 12:00:00+00\"\n",
    "print(fc.will_be_rainy_at(time))\n",
    "fc.will_be_sunny_at(time)\n",
    "fc.will_be_cloudy_at(time)"
   ]
  },
  {
   "cell_type": "code",
   "execution_count": null,
   "metadata": {},
   "outputs": [],
   "source": []
  }
 ],
 "metadata": {
  "kernelspec": {
   "display_name": "Python 3",
   "language": "python",
   "name": "python3"
  },
  "language_info": {
   "codemirror_mode": {
    "name": "ipython",
    "version": 3
   },
   "file_extension": ".py",
   "mimetype": "text/x-python",
   "name": "python",
   "nbconvert_exporter": "python",
   "pygments_lexer": "ipython3",
   "version": "3.7.6"
  }
 },
 "nbformat": 4,
 "nbformat_minor": 4
}
