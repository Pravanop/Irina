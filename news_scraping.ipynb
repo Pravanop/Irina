{
 "cells": [
  {
   "cell_type": "code",
   "execution_count": 1,
   "metadata": {},
   "outputs": [],
   "source": [
    "import bs4\n",
    "from bs4 import BeautifulSoup as soup\n",
    "from urllib.request import urlopen\n",
    "from newspaper import Article "
   ]
  },
  {
   "cell_type": "code",
   "execution_count": 2,
   "metadata": {},
   "outputs": [],
   "source": [
    "#pip install newspaper"
   ]
  },
  {
   "cell_type": "code",
   "execution_count": 3,
   "metadata": {},
   "outputs": [],
   "source": [
    "def generate_newsList():\n",
    "    news_url=\"https://news.google.com/news/rss\"\n",
    "    Client=urlopen(news_url)\n",
    "    xml_page=Client.read()\n",
    "    Client.close()\n",
    "    soup_page=soup(xml_page,\"xml\")\n",
    "    news_list=soup_page.findAll(\"item\")\n",
    "    return news_list"
   ]
  },
  {
   "cell_type": "code",
   "execution_count": 4,
   "metadata": {},
   "outputs": [],
   "source": [
    "# #For different language newspaper refer above table \n",
    "# toi_article = Article(url, language=\"en\") # en for English "
   ]
  },
  {
   "cell_type": "code",
   "execution_count": 2,
   "metadata": {},
   "outputs": [],
   "source": [
    "def print_topNews():\n",
    "    news_list=generate_newsList()\n",
    "    # Print news title, url and publish date\n",
    "    for news in news_list[:5]:\n",
    "        #For different language newspaper refer above table \n",
    "        toi_article = Article(news.link.text, language=\"en\") # en for English \n",
    "\n",
    "        #To download the article \n",
    "        toi_article.download() \n",
    "        #To parse the article \n",
    "        toi_article.parse() \n",
    "        #To perform natural language processing ie..nlp \n",
    "        toi_article.nlp() \n",
    "\n",
    "        #To extract title \n",
    "        print(\"Article's Title:\") \n",
    "        #print(toi_article.title) \n",
    "\n",
    "        #To extract text \n",
    "        #print(\"Article's Text:\") \n",
    "        #print(toi_article.text) \n",
    "\n",
    "        #To extract summary \n",
    "        print(\"Article's Summary:\") \n",
    "        #print(toi_article.summary) \n",
    "\n",
    "        #print(news.pubDate.text)\n",
    "        #print('-'*60)\n",
    "    return toi_article"
   ]
  },
  {
   "cell_type": "code",
   "execution_count": 1,
   "metadata": {},
   "outputs": [],
   "source": [
    "#print_topNews()         #takes some time to finish excecution,depending on the slice in the for loop present in the function"
   ]
  },
  {
   "cell_type": "code",
   "execution_count": null,
   "metadata": {},
   "outputs": [],
   "source": []
  }
 ],
 "metadata": {
  "kernelspec": {
   "display_name": "Python 3",
   "language": "python",
   "name": "python3"
  },
  "language_info": {
   "codemirror_mode": {
    "name": "ipython",
    "version": 3
   },
   "file_extension": ".py",
   "mimetype": "text/x-python",
   "name": "python",
   "nbconvert_exporter": "python",
   "pygments_lexer": "ipython3",
   "version": "3.7.6"
  }
 },
 "nbformat": 4,
 "nbformat_minor": 2
}
