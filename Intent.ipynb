{
 "cells": [
  {
   "cell_type": "code",
   "execution_count": 1,
   "metadata": {},
   "outputs": [],
   "source": [
    "import numpy as np"
   ]
  },
  {
   "cell_type": "code",
   "execution_count": 2,
   "metadata": {},
   "outputs": [
    {
     "name": "stdout",
     "output_type": "stream",
     "text": [
      "Loading model...\n"
     ]
    },
    {
     "name": "stderr",
     "output_type": "stream",
     "text": [
      "\n"
     ]
    }
   ],
   "source": [
    "import sister\n",
    "embedder=sister.MeanEmbedding(lang='en')"
   ]
  },
  {
   "cell_type": "code",
   "execution_count": 123,
   "metadata": {},
   "outputs": [],
   "source": [
    "from scipy.spatial.distance import cosine"
   ]
  },
  {
   "cell_type": "code",
   "execution_count": 194,
   "metadata": {},
   "outputs": [],
   "source": [
    "\n",
    "class Intent:\n",
    "    threshold=0.0 #say\n",
    "    def intent_builder(self,training_phrases):\n",
    "        training_phrase=input(\"Enter a training phase:\")\n",
    "        sent_vector=embedder(training_phrase)\n",
    "        sent_vector=np.array(sent_vector)\n",
    "        sent_vector1=sent_vector.reshape(300,1)\n",
    "        training_phrases1=np.concatenate((training_phrases,sent_vector1),axis=1)\n",
    "        return training_phrases1\n",
    "    \n",
    "    def intent_searcher(self,testing_phrases,training_phrases):\n",
    "        iteration_count=0\n",
    "        for training_phrase in training_phrases:\n",
    "            cosine_sim=cosine(training_phrase,testing_phrase)\n",
    "            print(cosine_sim)\n",
    "            if iteration_count == 0:\n",
    "                cosine_max=cosine_sim\n",
    "            if (cosine_max>cosine_sim):\n",
    "                cosine_max=cosine_sim\n",
    "            iteration_count= iteration_count+1\n",
    "        if (cosine_max>=self.threshold):\n",
    "            return True,cosine_max\n",
    "        else:\n",
    "            return False,0\n",
    "            "
   ]
  },
  {
   "cell_type": "code",
   "execution_count": 195,
   "metadata": {},
   "outputs": [],
   "source": [
    "#given a list of intent objects(with function call as attribute). Training phrases already loaded.\n",
    "def intent_matcher(intent_list):\n",
    "    \n",
    "    count=0\n",
    "    cosine_max=0\n",
    "    intent_max=0\n",
    "    vector_max=0\n",
    "    \n",
    "    for intent in intent_list:\n",
    "        value,vector=intent.intent_searcher(testing_phrase,intent.training_phrases)\n",
    "        if(value):\n",
    "            vector_instance=vector\n",
    "            count=count+1\n",
    "            if (count==1):\n",
    "                vector_max=vector_instance\n",
    "                intent_max=intent\n",
    "            elif (vector_max<vector_instance):\n",
    "                vector_max=vector_instance\n",
    "                intent_max=intent\n",
    "        else: #value is false\n",
    "            continue\n",
    "        count=count+1\n",
    "    return intent_max,vector_max"
   ]
  },
  {
   "cell_type": "code",
   "execution_count": 196,
   "metadata": {},
   "outputs": [],
   "source": [
    "class Stocks(Intent):\n",
    "    def training_phrase_adder_20(self,training_phrases):\n",
    "        for phrase in range(5):\n",
    "             training_phrases=Intent.intent_builder(self,training_phrases)\n",
    "        return training_phrases"
   ]
  },
  {
   "cell_type": "code",
   "execution_count": 197,
   "metadata": {},
   "outputs": [],
   "source": [
    "\n",
    "stocks=Stocks()"
   ]
  },
  {
   "cell_type": "code",
   "execution_count": 198,
   "metadata": {},
   "outputs": [],
   "source": [
    "training_phrases=embedder('What is the share price of google')\n",
    "training_phrases=training_phrases.reshape(300,1)"
   ]
  },
  {
   "cell_type": "code",
   "execution_count": 84,
   "metadata": {},
   "outputs": [
    {
     "name": "stdout",
     "output_type": "stream",
     "text": [
      "Enter a training phase:what is the share price of google?\n",
      "Enter a training phase:what is the share price of apple?\n",
      "Enter a training phase:how are google's share prices doing?\n",
      "Enter a training phase:how are apple's share prices doing\n",
      "Enter a training phase:google stocks\n"
     ]
    }
   ],
   "source": [
    "training_phrases=stocks.training_phrase_adder_20(training_phrases)"
   ]
  },
  {
   "cell_type": "code",
   "execution_count": 199,
   "metadata": {},
   "outputs": [],
   "source": [
    "stocks.training_phrases=training_phrases"
   ]
  },
  {
   "cell_type": "code",
   "execution_count": 200,
   "metadata": {},
   "outputs": [
    {
     "name": "stdout",
     "output_type": "stream",
     "text": [
      "300\n"
     ]
    }
   ],
   "source": [
    "print(training_phrases.size)"
   ]
  },
  {
   "cell_type": "code",
   "execution_count": 201,
   "metadata": {},
   "outputs": [],
   "source": [
    "intent_list=[stocks]"
   ]
  },
  {
   "cell_type": "code",
   "execution_count": 202,
   "metadata": {},
   "outputs": [],
   "source": [
    "testing_phrase=embedder('What is the share price of google')\n",
    "testing_phrase=testing_phrase.reshape(300,1)"
   ]
  },
  {
   "cell_type": "code",
   "execution_count": 203,
   "metadata": {},
   "outputs": [
    {
     "name": "stdout",
     "output_type": "stream",
     "text": [
      "1.0264750607311726\n",
      "0.9735249429941177\n",
      "1.0264750737696886\n",
      "0.9735249392688274\n",
      "0.9735249374061823\n",
      "1.0264750588685274\n",
      "0.9735249411314726\n",
      "0.9735249429941177\n",
      "1.0264750588685274\n",
      "0.973524933680892\n",
      "1.0264750644564629\n",
      "1.0264750514179468\n",
      "0.9735249523073435\n",
      "1.0264750607311726\n",
      "0.9735249374061823\n",
      "0.9735249504446983\n",
      "0.9735249355435371\n",
      "1.0264750570058823\n",
      "0.9735249355435371\n",
      "0.973524946719408\n",
      "1.0264750681817532\n",
      "1.0264750607311726\n",
      "0.9735249429941177\n",
      "1.0264750700443983\n",
      "1.0264750644564629\n",
      "0.973524933680892\n",
      "1.0264750625938177\n",
      "1.0264750551432371\n",
      "0.9735249299556017\n",
      "1.0264750607311726\n",
      "0.9735249299556017\n",
      "1.0264750625938177\n",
      "0.9735249318182468\n",
      "1.0264750700443983\n",
      "1.0264750607311726\n",
      "0.9735249392688274\n",
      "0.9735249448567629\n",
      "0.9735249392688274\n",
      "0.9735249262303114\n",
      "0.973524933680892\n",
      "1.0264750644564629\n",
      "1.026475066319108\n",
      "1.0264750607311726\n",
      "1.0264750607311726\n",
      "1.0264750625938177\n",
      "0.9735249429941177\n",
      "1.0264750588685274\n",
      "0.9735249374061823\n",
      "1.0264750570058823\n",
      "1.0264750625938177\n",
      "1.026475053280592\n",
      "0.9735249429941177\n",
      "0.9735249429941177\n",
      "1.0264750625938177\n",
      "1.0264750570058823\n",
      "0.9735249374061823\n",
      "1.026475066319108\n",
      "1.0264750588685274\n",
      "1.0264750588685274\n",
      "0.973524933680892\n",
      "0.9735249355435371\n",
      "1.0264750625938177\n",
      "1.0264750570058823\n",
      "0.973524946719408\n",
      "0.9735249392688274\n",
      "0.9735249355435371\n",
      "0.9735249355435371\n",
      "1.0264750551432371\n",
      "1.0264750588685274\n",
      "1.0264750607311726\n",
      "0.973524933680892\n",
      "1.0264750607311726\n",
      "0.9735249448567629\n",
      "0.9735249262303114\n",
      "1.0264750737696886\n",
      "0.9735249355435371\n",
      "1.0264750700443983\n",
      "0.9735249299556017\n",
      "1.0264750625938177\n",
      "1.0264750625938177\n",
      "1.0264750625938177\n",
      "0.973524920642376\n",
      "1.0264750588685274\n",
      "1.0264750607311726\n",
      "0.9735249318182468\n",
      "0.973524933680892\n",
      "1.0264750495553017\n",
      "0.9735249429941177\n",
      "1.026475066319108\n",
      "0.9735249374061823\n",
      "1.0264750625938177\n",
      "1.0264750681817532\n",
      "0.9735249299556017\n",
      "0.9735249392688274\n",
      "0.973524933680892\n",
      "1.026475066319108\n",
      "0.973524933680892\n",
      "1.0264750644564629\n",
      "1.0264750700443983\n",
      "1.0264750570058823\n",
      "1.026475066319108\n",
      "0.9735249392688274\n",
      "1.0264750625938177\n",
      "1.0264750551432371\n",
      "0.973524933680892\n",
      "1.0264750588685274\n",
      "0.9735249355435371\n",
      "0.9735249318182468\n",
      "1.0264750551432371\n",
      "0.9735249392688274\n",
      "1.0264750625938177\n",
      "1.0264750681817532\n",
      "1.0264750681817532\n",
      "0.9735249318182468\n",
      "0.9735249355435371\n",
      "0.9735249355435371\n",
      "1.026475066319108\n",
      "1.0264750644564629\n",
      "0.9735249374061823\n",
      "0.9735249355435371\n",
      "0.9735249392688274\n",
      "0.973524933680892\n",
      "1.0264750570058823\n",
      "0.973524933680892\n",
      "0.9735249429941177\n",
      "0.9735249411314726\n",
      "1.0264750607311726\n",
      "1.0264750570058823\n",
      "0.9735249448567629\n",
      "0.9735249392688274\n",
      "0.9735249429941177\n",
      "0.9735249374061823\n",
      "0.9735249299556017\n",
      "0.9735249411314726\n",
      "1.0264750700443983\n",
      "1.0264750625938177\n",
      "0.9735249429941177\n",
      "0.9735249429941177\n",
      "0.9735249318182468\n",
      "0.9735249355435371\n",
      "0.9735249411314726\n",
      "1.0264750644564629\n",
      "1.026475066319108\n",
      "1.0264750570058823\n",
      "1.0264750644564629\n",
      "0.9735249374061823\n",
      "0.9735249280929565\n",
      "1.0264750588685274\n",
      "1.0264750625938177\n",
      "1.0264750588685274\n",
      "1.0264750607311726\n",
      "0.9735249374061823\n",
      "1.0264750570058823\n",
      "1.0264750570058823\n",
      "1.0264750625938177\n",
      "0.9735249448567629\n",
      "0.9735249355435371\n",
      "1.0264750625938177\n",
      "0.9735249374061823\n",
      "1.0264750607311726\n",
      "1.0264750644564629\n",
      "0.9735249392688274\n",
      "0.9735249392688274\n",
      "0.973524933680892\n",
      "1.0264750644564629\n",
      "0.9735249374061823\n",
      "0.973524933680892\n",
      "0.9735249485820532\n",
      "1.0264750644564629\n",
      "0.973524946719408\n",
      "1.0264750737696886\n",
      "1.0264750607311726\n",
      "1.0264750625938177\n",
      "1.0264750588685274\n",
      "0.9735249411314726\n",
      "1.0264750588685274\n",
      "0.9735249374061823\n",
      "0.9735249355435371\n",
      "1.0264750644564629\n",
      "0.9735249374061823\n",
      "0.9735249411314726\n",
      "0.9735249355435371\n",
      "1.0264750588685274\n",
      "1.0264750458300114\n",
      "1.0264750607311726\n",
      "0.9735249392688274\n",
      "0.9735249299556017\n",
      "1.0264750681817532\n",
      "0.973524933680892\n",
      "1.0264750681817532\n",
      "0.9735249374061823\n",
      "0.9735249392688274\n",
      "1.0264750644564629\n",
      "0.9735249411314726\n",
      "0.9735249392688274\n",
      "0.9735249355435371\n",
      "0.9735249448567629\n",
      "0.9735249429941177\n",
      "0.9735249355435371\n",
      "0.9735249392688274\n",
      "1.0264750625938177\n",
      "1.0264750607311726\n",
      "0.9735249392688274\n",
      "1.0264750570058823\n",
      "1.0264750607311726\n",
      "0.9735249374061823\n",
      "0.9735249392688274\n",
      "0.9735249392688274\n",
      "0.9735249355435371\n",
      "1.0264750625938177\n",
      "0.9735249318182468\n",
      "1.0264750681817532\n",
      "1.0264750588685274\n",
      "0.9735249355435371\n",
      "1.0264750625938177\n",
      "1.0264750625938177\n",
      "1.0264750551432371\n",
      "1.0264750644564629\n",
      "1.0264750570058823\n",
      "0.973524933680892\n",
      "1.0264750700443983\n",
      "1.0264750551432371\n",
      "1.026475066319108\n",
      "1.0264750588685274\n",
      "0.9735249392688274\n",
      "0.9735249355435371\n",
      "1.0264750607311726\n",
      "0.9735249355435371\n",
      "1.0264750625938177\n",
      "1.0264750607311726\n",
      "0.9735249355435371\n",
      "1.0264750644564629\n",
      "0.9735249392688274\n",
      "0.9735249374061823\n",
      "1.026475066319108\n",
      "0.9735249374061823\n",
      "0.9735249392688274\n",
      "1.0264750625938177\n",
      "0.9735249392688274\n",
      "0.9735249355435371\n",
      "1.0264750625938177\n",
      "1.0264750625938177\n",
      "1.0264750681817532\n",
      "1.0264750700443983\n",
      "1.0264750551432371\n",
      "0.9735249429941177\n",
      "0.9735249429941177\n",
      "0.9735249392688274\n",
      "0.9735249355435371\n",
      "1.026475053280592\n",
      "1.0264750756323338\n",
      "1.0264750681817532\n",
      "0.9735249392688274\n",
      "0.9735249392688274\n",
      "0.9735249392688274\n",
      "0.9735249355435371\n",
      "0.9735249392688274\n",
      "1.0264750700443983\n",
      "0.9735249411314726\n",
      "1.0264750681817532\n",
      "1.0264750588685274\n",
      "0.9735249374061823\n",
      "1.0264750719070435\n",
      "1.0264750681817532\n",
      "0.9735249318182468\n",
      "1.0264750588685274\n",
      "1.0264750588685274\n",
      "0.9735249318182468\n",
      "1.0264750681817532\n",
      "0.9735249485820532\n",
      "0.9735249411314726\n",
      "1.0264750588685274\n",
      "1.0264750719070435\n",
      "1.0264750644564629\n",
      "1.0264750700443983\n",
      "0.9735249411314726\n",
      "1.026475066319108\n",
      "0.973524933680892\n",
      "0.9735249374061823\n",
      "1.026475066319108\n",
      "1.0264750681817532\n",
      "0.9735249318182468\n",
      "0.9735249392688274\n",
      "1.0264750588685274\n",
      "0.973524933680892\n",
      "1.0264750644564629\n",
      "1.0264750700443983\n",
      "1.0264750625938177\n",
      "0.973524933680892\n",
      "0.9735249504446983\n",
      "1.0264750495553017\n",
      "0.973524946719408\n",
      "0.9735249411314726\n",
      "0.9735249411314726\n",
      "0.9735249355435371\n",
      "0.973524946719408\n",
      "0.9735249299556017\n",
      "0.9735249299556017\n",
      "0.9735249374061823\n",
      "0.9735249392688274\n"
     ]
    }
   ],
   "source": [
    "intent_max,vector_max=intent_matcher(intent_list)"
   ]
  },
  {
   "cell_type": "code",
   "execution_count": 173,
   "metadata": {},
   "outputs": [
    {
     "name": "stdout",
     "output_type": "stream",
     "text": [
      "0.973524920642376\n"
     ]
    }
   ],
   "source": [
    "print(vector_max)"
   ]
  },
  {
   "cell_type": "code",
   "execution_count": 174,
   "metadata": {},
   "outputs": [
    {
     "name": "stdout",
     "output_type": "stream",
     "text": [
      "<__main__.Stocks object at 0x00000239BBF28128>\n"
     ]
    }
   ],
   "source": [
    "print(intent_max)"
   ]
  },
  {
   "cell_type": "code",
   "execution_count": null,
   "metadata": {},
   "outputs": [],
   "source": []
  },
  {
   "cell_type": "code",
   "execution_count": 76,
   "metadata": {},
   "outputs": [],
   "source": []
  },
  {
   "cell_type": "code",
   "execution_count": 77,
   "metadata": {},
   "outputs": [],
   "source": []
  },
  {
   "cell_type": "code",
   "execution_count": 78,
   "metadata": {},
   "outputs": [
    {
     "name": "stdout",
     "output_type": "stream",
     "text": [
      "a\n"
     ]
    }
   ],
   "source": []
  },
  {
   "cell_type": "code",
   "execution_count": null,
   "metadata": {},
   "outputs": [],
   "source": []
  }
 ],
 "metadata": {
  "kernelspec": {
   "display_name": "Python 3",
   "language": "python",
   "name": "python3"
  },
  "language_info": {
   "codemirror_mode": {
    "name": "ipython",
    "version": 3
   },
   "file_extension": ".py",
   "mimetype": "text/x-python",
   "name": "python",
   "nbconvert_exporter": "python",
   "pygments_lexer": "ipython3",
   "version": "3.7.3"
  }
 },
 "nbformat": 4,
 "nbformat_minor": 4
}
