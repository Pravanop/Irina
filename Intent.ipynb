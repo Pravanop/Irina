{
 "cells": [
  {
   "cell_type": "code",
   "execution_count": 2,
   "metadata": {},
   "outputs": [],
   "source": [
    "import numpy as np"
   ]
  },
  {
   "cell_type": "code",
   "execution_count": 3,
   "metadata": {},
   "outputs": [
    {
     "name": "stdout",
     "output_type": "stream",
     "text": [
      "Loading model...\n"
     ]
    },
    {
     "name": "stderr",
     "output_type": "stream",
     "text": [
      "\n"
     ]
    }
   ],
   "source": [
    "import sister\n",
    "embedder=sister.MeanEmbedding(lang='en')"
   ]
  },
  {
   "cell_type": "code",
   "execution_count": 4,
   "metadata": {},
   "outputs": [],
   "source": [
    "from scipy.spatial.distance import cosine"
   ]
  },
  {
   "cell_type": "code",
   "execution_count": 111,
   "metadata": {},
   "outputs": [],
   "source": [
    "\n",
    "class Intent:\n",
    "    threshold=0.7 #say\n",
    "    def intent_builder(self,training_phrases):\n",
    "        training_phrase=input(\"Enter a training phase:\")\n",
    "        sent_vector=embedder(training_phrase)\n",
    "        sent_vector=np.array(sent_vector)\n",
    "        sent_vector1=sent_vector.reshape(1,300)\n",
    "        training_phrases1=np.vstack((training_phrases,sent_vector1))\n",
    "        return training_phrases1\n",
    "    \n",
    "    def intent_searcher(self,testing_phrases,training_phrases):\n",
    "        iteration_count=0\n",
    "        for training_phrase in training_phrases:\n",
    "            training_phrase=training_phrase.reshape(300,1)\n",
    "            cosine_sim=1- cosine(training_phrase,testing_phrase)\n",
    "            if iteration_count == 0:\n",
    "                cosine_max=cosine_sim\n",
    "            if (cosine_max<cosine_sim):\n",
    "                cosine_max=cosine_sim\n",
    "            iteration_count= iteration_count+1\n",
    "        if (cosine_max>=self.threshold):\n",
    "            return True,cosine_max\n",
    "        else:\n",
    "            return False,0\n",
    "            "
   ]
  },
  {
   "cell_type": "code",
   "execution_count": 112,
   "metadata": {},
   "outputs": [],
   "source": [
    "#given a list of intent objects(with function call as attribute). Training phrases already loaded.\n",
    "def intent_matcher(intent_list):\n",
    "    \n",
    "    count=0\n",
    "    cosine_max=0\n",
    "    intent_max=0\n",
    "    vector_max=0\n",
    "    \n",
    "    for intent in intent_list:\n",
    "        value,vector=intent.intent_searcher(testing_phrase,intent.training_phrases)\n",
    "        if(value):\n",
    "            vector_instance=vector\n",
    "            count=count+1\n",
    "            if (count==1):\n",
    "                vector_max=vector_instance\n",
    "                intent_max=intent\n",
    "            elif (vector_max<vector_instance):\n",
    "                vector_max=vector_instance\n",
    "                intent_max=intent\n",
    "        else: #value is false\n",
    "            continue\n",
    "        count=count+1\n",
    "    return intent_max,vector_max"
   ]
  },
  {
   "cell_type": "code",
   "execution_count": 113,
   "metadata": {},
   "outputs": [],
   "source": [
    "class Stocks(Intent):\n",
    "    def training_phrase_adder_20(self,training_phrases):\n",
    "        for phrase in range(5):\n",
    "             training_phrases=Intent.intent_builder(self,training_phrases)\n",
    "        return training_phrases"
   ]
  },
  {
   "cell_type": "code",
   "execution_count": 114,
   "metadata": {},
   "outputs": [],
   "source": [
    "stocks=Stocks()"
   ]
  },
  {
   "cell_type": "code",
   "execution_count": 115,
   "metadata": {},
   "outputs": [],
   "source": [
    "training_phrases=embedder('What is the share price of google')\n",
    "training_phrases=training_phrases.reshape(1,300)"
   ]
  },
  {
   "cell_type": "code",
   "execution_count": 116,
   "metadata": {},
   "outputs": [
    {
     "name": "stdout",
     "output_type": "stream",
     "text": [
      "Enter a training phase:lol\n",
      "Enter a training phase:lol\n",
      "Enter a training phase:lol\n",
      "Enter a training phase:lol\n",
      "Enter a training phase:lol\n"
     ]
    }
   ],
   "source": [
    "training_phrases=stocks.training_phrase_adder_20(training_phrases)"
   ]
  },
  {
   "cell_type": "code",
   "execution_count": 117,
   "metadata": {},
   "outputs": [],
   "source": [
    "stocks.training_phrases=training_phrases"
   ]
  },
  {
   "cell_type": "code",
   "execution_count": 118,
   "metadata": {},
   "outputs": [
    {
     "name": "stdout",
     "output_type": "stream",
     "text": [
      "(6, 300)\n"
     ]
    }
   ],
   "source": [
    "print(stocks.training_phrases.shape)"
   ]
  },
  {
   "cell_type": "code",
   "execution_count": 119,
   "metadata": {},
   "outputs": [],
   "source": [
    "intent_list=[stocks]"
   ]
  },
  {
   "cell_type": "code",
   "execution_count": 120,
   "metadata": {},
   "outputs": [],
   "source": [
    "testing_phrase=embedder('What is the share price of google')\n",
    "testing_phrase=testing_phrase.reshape(300,1)"
   ]
  },
  {
   "cell_type": "code",
   "execution_count": 121,
   "metadata": {},
   "outputs": [
    {
     "name": "stdout",
     "output_type": "stream",
     "text": [
      "1.0\n",
      "1.0\n",
      "0.32257992029190063\n",
      "1.0\n",
      "0.32257992029190063\n",
      "1.0\n",
      "0.32257992029190063\n",
      "1.0\n",
      "0.32257992029190063\n",
      "1.0\n",
      "0.32257992029190063\n",
      "1.0\n"
     ]
    }
   ],
   "source": [
    "intent_max,vector_max=intent_matcher(intent_list)"
   ]
  },
  {
   "cell_type": "code",
   "execution_count": 122,
   "metadata": {},
   "outputs": [
    {
     "name": "stdout",
     "output_type": "stream",
     "text": [
      "1.0\n"
     ]
    }
   ],
   "source": [
    "print(vector_max)"
   ]
  },
  {
   "cell_type": "code",
   "execution_count": 123,
   "metadata": {},
   "outputs": [
    {
     "name": "stdout",
     "output_type": "stream",
     "text": [
      "<__main__.Stocks object at 0x0000022ABB056A88>\n"
     ]
    }
   ],
   "source": [
    "print(intent_max)"
   ]
  },
  {
   "cell_type": "code",
   "execution_count": null,
   "metadata": {},
   "outputs": [],
   "source": []
  }
 ],
 "metadata": {
  "kernelspec": {
   "display_name": "Python 3",
   "language": "python",
   "name": "python3"
  },
  "language_info": {
   "codemirror_mode": {
    "name": "ipython",
    "version": 3
   },
   "file_extension": ".py",
   "mimetype": "text/x-python",
   "name": "python",
   "nbconvert_exporter": "python",
   "pygments_lexer": "ipython3",
   "version": "3.7.6"
  }
 },
 "nbformat": 4,
 "nbformat_minor": 4
}
