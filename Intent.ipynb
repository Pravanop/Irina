{
 "cells": [
  {
   "cell_type": "code",
   "execution_count": 1,
   "metadata": {},
   "outputs": [],
   "source": [
    "import numpy as np"
   ]
  },
  {
   "cell_type": "code",
   "execution_count": 5,
   "metadata": {},
   "outputs": [
    {
     "name": "stdout",
     "output_type": "stream",
     "text": [
      "Loading model...\n"
     ]
    },
    {
     "name": "stderr",
     "output_type": "stream",
     "text": [
      "\n"
     ]
    }
   ],
   "source": [
    "import sister\n",
    "embedder=sister.MeanEmbedding(lang='en')"
   ]
  },
  {
   "cell_type": "code",
   "execution_count": 29,
   "metadata": {},
   "outputs": [],
   "source": [
    "class Intent:\n",
    "    threshold=0.7 #say\n",
    "    def intent_builder(self,training_phrases):\n",
    "        training_phrase=input(\"Enter a training phase:\")\n",
    "        sent_vector=embedder(training_phrase)\n",
    "        sent_vector=np.array(sent_vector)\n",
    "        training_phrases=np.append(training_phrases,sent_vector)\n",
    "        return training_phrases\n",
    "    training_phrases_list=self.intent_builder(training_phrases)\n",
    "    def intent_searcher(self,testing_phrases,training_phrases):\n",
    "        for training_phrase in training_phrases:\n",
    "            cosine_sim=********\n",
    "            if training_phrase == 0:\n",
    "                cosine_max=cosine_sim\n",
    "            if (cosine_sim>cosine_max):\n",
    "                cosine_max=cosine_sim\n",
    "        if (cosine_max>=self.threshold):\n",
    "            return True,cosine_max\n",
    "        else:\n",
    "            return False,0\n",
    "    \n",
    "            "
   ]
  },
  {
   "cell_type": "code",
   "execution_count": null,
   "metadata": {},
   "outputs": [],
   "source": [
    "#given a list of intent objects(with function call as attribute). Training phrases already loaded.\n",
    "def intent_matcher(intent_list):\n",
    "    \n",
    "    count=0\n",
    "    for intent in intent_list:\n",
    "        value,vector=intent.intent_searcher(testing_phrase,intent.training_phrases_list)\n",
    "        if(value):\n",
    "            vector_instance=vector\n",
    "            count=count+1\n",
    "            if (count==1):\n",
    "                vector_max=vector_instance\n",
    "                intent_max=intent\n",
    "            else if(vector_max<vector_instance):\n",
    "                vector_max=vector_instance\n",
    "                intent_max=intent\n",
    "        else: #value is false\n",
    "            continue\n",
    "    return intent_max      \n",
    "        \n",
    "    "
   ]
  },
  {
   "cell_type": "code",
   "execution_count": null,
   "metadata": {},
   "outputs": [],
   "source": [
    "class stocks(Intent):\n",
    "    stock_func= #defined func_object\n",
    "stocks=stock()\n",
    "#store a list of such objects as intent_list\n",
    "#knowing intent_max call stock.stock_func.func(query)"
   ]
  }
 ],
 "metadata": {
  "kernelspec": {
   "display_name": "Python 3",
   "language": "python",
   "name": "python3"
  },
  "language_info": {
   "codemirror_mode": {
    "name": "ipython",
    "version": 3
   },
   "file_extension": ".py",
   "mimetype": "text/x-python",
   "name": "python",
   "nbconvert_exporter": "python",
   "pygments_lexer": "ipython3",
   "version": "3.7.6"
  }
 },
 "nbformat": 4,
 "nbformat_minor": 4
}
