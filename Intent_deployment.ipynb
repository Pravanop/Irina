{
 "cells": [
  {
   "cell_type": "code",
   "execution_count": 16,
   "metadata": {},
   "outputs": [],
   "source": [
    "from Stocks import stock_price\n",
    "from Intent import *"
   ]
  },
  {
   "cell_type": "code",
   "execution_count": 17,
   "metadata": {},
   "outputs": [],
   "source": [
    "def intent_matcher(intent_list,testing_phrase):\n",
    "    \n",
    "    count=0\n",
    "    cosine_max=0\n",
    "    intent_max=0\n",
    "    vector_max=0\n",
    "    \n",
    "    for intent in intent_list:\n",
    "        value,vector=intent.intent_searcher(testing_phrase,intent.training_phrases)\n",
    "        if(value):\n",
    "            vector_instance=vector\n",
    "            count=count+1\n",
    "            if (count==1):\n",
    "                vector_max=vector_instance\n",
    "                intent_max=intent\n",
    "            elif (vector_max<vector_instance):\n",
    "                vector_max=vector_instance\n",
    "                intent_max=intent\n",
    "        else: #value is false\n",
    "            continue\n",
    "        count=count+1\n",
    "    return intent_max,vector_max"
   ]
  },
  {
   "cell_type": "code",
   "execution_count": 18,
   "metadata": {},
   "outputs": [],
   "source": [
    "from numpy import save"
   ]
  },
  {
   "cell_type": "code",
   "execution_count": 19,
   "metadata": {},
   "outputs": [],
   "source": [
    "class Stocks(Intent):\n",
    "    training_phrases=np.load('Stocks_phrases.npy')"
   ]
  },
  {
   "cell_type": "code",
   "execution_count": 20,
   "metadata": {},
   "outputs": [],
   "source": [
    "class News(Intent):\n",
    "    training_phrases=np.load('News_phrases.npy')"
   ]
  },
  {
   "cell_type": "code",
   "execution_count": 21,
   "metadata": {},
   "outputs": [],
   "source": [
    "stocks=Stocks()\n",
    "news=News()"
   ]
  },
  {
   "cell_type": "code",
   "execution_count": 22,
   "metadata": {},
   "outputs": [],
   "source": [
    "intent_list=[stocks,news]"
   ]
  },
  {
   "cell_type": "code",
   "execution_count": 26,
   "metadata": {},
   "outputs": [],
   "source": [
    "testing_phrase='Give me the google stock'"
   ]
  },
  {
   "cell_type": "code",
   "execution_count": 27,
   "metadata": {},
   "outputs": [
    {
     "ename": "NameError",
     "evalue": "name 'testing_phrase' is not defined",
     "output_type": "error",
     "traceback": [
      "\u001b[1;31m---------------------------------------------------------------------------\u001b[0m",
      "\u001b[1;31mNameError\u001b[0m                                 Traceback (most recent call last)",
      "\u001b[1;32m<ipython-input-27-44eec727feed>\u001b[0m in \u001b[0;36m<module>\u001b[1;34m\u001b[0m\n\u001b[1;32m----> 1\u001b[1;33m \u001b[0mintent_max\u001b[0m\u001b[1;33m,\u001b[0m\u001b[0mvector_max\u001b[0m\u001b[1;33m=\u001b[0m\u001b[0mintent_matcher\u001b[0m\u001b[1;33m(\u001b[0m\u001b[0mintent_list\u001b[0m\u001b[1;33m,\u001b[0m\u001b[0mtesting_phrase\u001b[0m\u001b[1;33m)\u001b[0m\u001b[1;33m\u001b[0m\u001b[1;33m\u001b[0m\u001b[0m\n\u001b[0m",
      "\u001b[1;32m<ipython-input-17-5bedbac4ba20>\u001b[0m in \u001b[0;36mintent_matcher\u001b[1;34m(intent_list, testing_phrase)\u001b[0m\n\u001b[0;32m      7\u001b[0m \u001b[1;33m\u001b[0m\u001b[0m\n\u001b[0;32m      8\u001b[0m     \u001b[1;32mfor\u001b[0m \u001b[0mintent\u001b[0m \u001b[1;32min\u001b[0m \u001b[0mintent_list\u001b[0m\u001b[1;33m:\u001b[0m\u001b[1;33m\u001b[0m\u001b[1;33m\u001b[0m\u001b[0m\n\u001b[1;32m----> 9\u001b[1;33m         \u001b[0mvalue\u001b[0m\u001b[1;33m,\u001b[0m\u001b[0mvector\u001b[0m\u001b[1;33m=\u001b[0m\u001b[0mintent\u001b[0m\u001b[1;33m.\u001b[0m\u001b[0mintent_searcher\u001b[0m\u001b[1;33m(\u001b[0m\u001b[0mtesting_phrase\u001b[0m\u001b[1;33m,\u001b[0m\u001b[0mintent\u001b[0m\u001b[1;33m.\u001b[0m\u001b[0mtraining_phrases\u001b[0m\u001b[1;33m)\u001b[0m\u001b[1;33m\u001b[0m\u001b[1;33m\u001b[0m\u001b[0m\n\u001b[0m\u001b[0;32m     10\u001b[0m         \u001b[1;32mif\u001b[0m\u001b[1;33m(\u001b[0m\u001b[0mvalue\u001b[0m\u001b[1;33m)\u001b[0m\u001b[1;33m:\u001b[0m\u001b[1;33m\u001b[0m\u001b[1;33m\u001b[0m\u001b[0m\n\u001b[0;32m     11\u001b[0m             \u001b[0mvector_instance\u001b[0m\u001b[1;33m=\u001b[0m\u001b[0mvector\u001b[0m\u001b[1;33m\u001b[0m\u001b[1;33m\u001b[0m\u001b[0m\n",
      "\u001b[1;32m~\\Desktop\\Irina\\Intent.py\u001b[0m in \u001b[0;36mintent_searcher\u001b[1;34m(self, testing_phrases, training_phrases)\u001b[0m\n\u001b[0;32m     10\u001b[0m         \u001b[0mtesting_phrase\u001b[0m\u001b[1;33m=\u001b[0m\u001b[0membedder\u001b[0m\u001b[1;33m(\u001b[0m\u001b[0mtesting_phrases\u001b[0m\u001b[1;33m)\u001b[0m\u001b[1;33m\u001b[0m\u001b[1;33m\u001b[0m\u001b[0m\n\u001b[0;32m     11\u001b[0m         \u001b[1;32mfor\u001b[0m \u001b[0mtraining_phrase\u001b[0m \u001b[1;32min\u001b[0m \u001b[0mtraining_phrases\u001b[0m\u001b[1;33m:\u001b[0m\u001b[1;33m\u001b[0m\u001b[1;33m\u001b[0m\u001b[0m\n\u001b[1;32m---> 12\u001b[1;33m             \u001b[0mtraining_phrase\u001b[0m\u001b[1;33m=\u001b[0m\u001b[0mtraining_phrase\u001b[0m\u001b[1;33m.\u001b[0m\u001b[0mreshape\u001b[0m\u001b[1;33m(\u001b[0m\u001b[1;36m300\u001b[0m\u001b[1;33m,\u001b[0m\u001b[1;36m1\u001b[0m\u001b[1;33m)\u001b[0m\u001b[1;33m\u001b[0m\u001b[1;33m\u001b[0m\u001b[0m\n\u001b[0m\u001b[0;32m     13\u001b[0m             \u001b[0mcosine_sim\u001b[0m\u001b[1;33m=\u001b[0m\u001b[1;36m1\u001b[0m\u001b[1;33m-\u001b[0m \u001b[0mcosine\u001b[0m\u001b[1;33m(\u001b[0m\u001b[0mtraining_phrase\u001b[0m\u001b[1;33m,\u001b[0m\u001b[0mtesting_phrase\u001b[0m\u001b[1;33m)\u001b[0m\u001b[1;33m\u001b[0m\u001b[1;33m\u001b[0m\u001b[0m\n\u001b[0;32m     14\u001b[0m             \u001b[1;32mif\u001b[0m \u001b[0miteration_count\u001b[0m \u001b[1;33m==\u001b[0m \u001b[1;36m0\u001b[0m\u001b[1;33m:\u001b[0m\u001b[1;33m\u001b[0m\u001b[1;33m\u001b[0m\u001b[0m\n",
      "\u001b[1;31mNameError\u001b[0m: name 'testing_phrase' is not defined"
     ]
    }
   ],
   "source": [
    "intent_max,vector_max=intent_matcher(intent_list,testing_phrase)"
   ]
  },
  {
   "cell_type": "code",
   "execution_count": null,
   "metadata": {},
   "outputs": [],
   "source": []
  }
 ],
 "metadata": {
  "kernelspec": {
   "display_name": "Python 3",
   "language": "python",
   "name": "python3"
  },
  "language_info": {
   "codemirror_mode": {
    "name": "ipython",
    "version": 3
   },
   "file_extension": ".py",
   "mimetype": "text/x-python",
   "name": "python",
   "nbconvert_exporter": "python",
   "pygments_lexer": "ipython3",
   "version": "3.7.6"
  }
 },
 "nbformat": 4,
 "nbformat_minor": 4
}
