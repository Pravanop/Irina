{
 "cells": [
  {
   "cell_type": "code",
   "execution_count": 28,
   "metadata": {},
   "outputs": [],
   "source": [
    "from Stocks import *"
   ]
  },
  {
   "cell_type": "code",
   "execution_count": 3,
   "metadata": {},
   "outputs": [],
   "source": [
    "def intent_matcher(intent_list):\n",
    "    \n",
    "    count=0\n",
    "    cosine_max=0\n",
    "    intent_max=0\n",
    "    vector_max=0\n",
    "    \n",
    "    for intent in intent_list:\n",
    "        value,vector=intent.intent_searcher(testing_phrase,intent.training_phrases)\n",
    "        if(value):\n",
    "            vector_instance=vector\n",
    "            count=count+1\n",
    "            if (count==1):\n",
    "                vector_max=vector_instance\n",
    "                intent_max=intent\n",
    "            elif (vector_max<vector_instance):\n",
    "                vector_max=vector_instance\n",
    "                intent_max=intent\n",
    "        else: #value is false\n",
    "            continue\n",
    "        count=count+1\n",
    "    return intent_max,vector_max"
   ]
  },
  {
   "cell_type": "code",
   "execution_count": 4,
   "metadata": {},
   "outputs": [],
   "source": [
    "from numpy import save"
   ]
  },
  {
   "cell_type": "code",
   "execution_count": 5,
   "metadata": {},
   "outputs": [],
   "source": [
    "training_phrase_stocks=np.load('Stocks_phrases.npy')"
   ]
  },
  {
   "cell_type": "code",
   "execution_count": 30,
   "metadata": {},
   "outputs": [
    {
     "ename": "AttributeError",
     "evalue": "module 'Stocks' has no attribute 'Stocks_func'",
     "output_type": "error",
     "traceback": [
      "\u001b[1;31m---------------------------------------------------------------------------\u001b[0m",
      "\u001b[1;31mAttributeError\u001b[0m                            Traceback (most recent call last)",
      "\u001b[1;32m<ipython-input-30-f5d392f6c064>\u001b[0m in \u001b[0;36m<module>\u001b[1;34m\u001b[0m\n\u001b[1;32m----> 1\u001b[1;33m \u001b[0mstocks\u001b[0m\u001b[1;33m=\u001b[0m\u001b[0mStocks\u001b[0m\u001b[1;33m.\u001b[0m\u001b[0mStocks_func\u001b[0m\u001b[1;33m(\u001b[0m\u001b[1;33m)\u001b[0m\u001b[1;33m\u001b[0m\u001b[1;33m\u001b[0m\u001b[0m\n\u001b[0m",
      "\u001b[1;31mAttributeError\u001b[0m: module 'Stocks' has no attribute 'Stocks_func'"
     ]
    }
   ],
   "source": [
    "stocks=Stocks.Stocks_func()"
   ]
  },
  {
   "cell_type": "code",
   "execution_count": null,
   "metadata": {},
   "outputs": [],
   "source": []
  },
  {
   "cell_type": "code",
   "execution_count": null,
   "metadata": {},
   "outputs": [],
   "source": []
  }
 ],
 "metadata": {
  "kernelspec": {
   "display_name": "Python 3",
   "language": "python",
   "name": "python3"
  },
  "language_info": {
   "codemirror_mode": {
    "name": "ipython",
    "version": 3
   },
   "file_extension": ".py",
   "mimetype": "text/x-python",
   "name": "python",
   "nbconvert_exporter": "python",
   "pygments_lexer": "ipython3",
   "version": "3.7.6"
  }
 },
 "nbformat": 4,
 "nbformat_minor": 4
}
