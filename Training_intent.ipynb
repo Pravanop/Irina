{
 "cells": [
  {
   "cell_type": "code",
   "execution_count": 1,
   "metadata": {},
   "outputs": [],
   "source": [
    "import numpy as np"
   ]
  },
  {
   "cell_type": "code",
   "execution_count": 7,
   "metadata": {},
   "outputs": [],
   "source": [
    "from numpy import save"
   ]
  },
  {
   "cell_type": "code",
   "execution_count": 2,
   "metadata": {},
   "outputs": [
    {
     "name": "stdout",
     "output_type": "stream",
     "text": [
      "Loading model...\n"
     ]
    },
    {
     "name": "stderr",
     "output_type": "stream",
     "text": [
      "\n"
     ]
    }
   ],
   "source": [
    "import sister\n",
    "embedder=sister.MeanEmbedding(lang='en')"
   ]
  },
  {
   "cell_type": "code",
   "execution_count": 3,
   "metadata": {},
   "outputs": [],
   "source": [
    "    def intent_builder(training_phrases):\n",
    "        training_phrase=input(\"Enter a training phase:\")\n",
    "        sent_vector=embedder(training_phrase)\n",
    "        sent_vector=np.array(sent_vector)\n",
    "        sent_vector1=sent_vector.reshape(1,300)\n",
    "        training_phrases1=np.vstack((training_phrases,sent_vector1))\n",
    "        return training_phrases1"
   ]
  },
  {
   "cell_type": "code",
   "execution_count": 4,
   "metadata": {},
   "outputs": [],
   "source": [
    "def training_phrase_adder_10(training_phrases):\n",
    "        for phrase in range(10):\n",
    "             training_phrases=intent_builder(training_phrases)\n",
    "        return training_phrases"
   ]
  },
  {
   "cell_type": "code",
   "execution_count": 5,
   "metadata": {},
   "outputs": [],
   "source": [
    "training_phrases=embedder('Give me the news')\n",
    "training_phrases=training_phrases.reshape(1,300)"
   ]
  },
  {
   "cell_type": "code",
   "execution_count": 8,
   "metadata": {},
   "outputs": [],
   "source": [
    "#np.save('Stocks_phrases.npy',training_phrases)"
   ]
  },
  {
   "cell_type": "code",
   "execution_count": 9,
   "metadata": {},
   "outputs": [
    {
     "name": "stdout",
     "output_type": "stream",
     "text": [
      "Enter a training phase:give me the latest news\n",
      "Enter a training phase:tell me the headlines today\n",
      "Enter a training phase:give me an update on the news\n",
      "Enter a training phase:whats making the headline today\n",
      "Enter a training phase:i want an update on the news\n",
      "Enter a training phase:what are the top news headlines today\n",
      "Enter a training phase:I need the headlines for today\n",
      "Enter a training phase:inform me of the latest news\n",
      "Enter a training phase:what is the news today\n",
      "Enter a training phase:tell me the latest news\n"
     ]
    }
   ],
   "source": [
    "news_phrases=training_phrase_adder_10(training_phrases)"
   ]
  },
  {
   "cell_type": "code",
   "execution_count": 10,
   "metadata": {},
   "outputs": [],
   "source": [
    "np.save('News_phrases.npy',news_phrases)"
   ]
  }
 ],
 "metadata": {
  "kernelspec": {
   "display_name": "Python 3",
   "language": "python",
   "name": "python3"
  },
  "language_info": {
   "codemirror_mode": {
    "name": "ipython",
    "version": 3
   },
   "file_extension": ".py",
   "mimetype": "text/x-python",
   "name": "python",
   "nbconvert_exporter": "python",
   "pygments_lexer": "ipython3",
   "version": "3.7.6"
  }
 },
 "nbformat": 4,
 "nbformat_minor": 4
}
