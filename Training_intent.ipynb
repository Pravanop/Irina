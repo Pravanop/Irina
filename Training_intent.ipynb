{
 "cells": [
  {
   "cell_type": "code",
   "execution_count": 9,
   "metadata": {},
   "outputs": [],
   "source": [
    "import numpy as np"
   ]
  },
  {
   "cell_type": "code",
   "execution_count": 10,
   "metadata": {},
   "outputs": [
    {
     "name": "stdout",
     "output_type": "stream",
     "text": [
      "Loading model...\n"
     ]
    },
    {
     "name": "stderr",
     "output_type": "stream",
     "text": [
      "\n"
     ]
    }
   ],
   "source": [
    "import sister\n",
    "embedder=sister.MeanEmbedding(lang='en')"
   ]
  },
  {
   "cell_type": "code",
   "execution_count": 12,
   "metadata": {},
   "outputs": [],
   "source": [
    "    def intent_builder(training_phrases):\n",
    "        training_phrase=input(\"Enter a training phase:\")\n",
    "        sent_vector=embedder(training_phrase)\n",
    "        sent_vector=np.array(sent_vector)\n",
    "        sent_vector1=sent_vector.reshape(1,300)\n",
    "        training_phrases1=np.vstack((training_phrases,sent_vector1))\n",
    "        return training_phrases1"
   ]
  },
  {
   "cell_type": "code",
   "execution_count": 13,
   "metadata": {},
   "outputs": [],
   "source": [
    "def training_phrase_adder_10(training_phrases):\n",
    "        for phrase in range(10):\n",
    "             training_phrases=intent_builder(training_phrases)\n",
    "        return training_phrases"
   ]
  },
  {
   "cell_type": "code",
   "execution_count": 14,
   "metadata": {},
   "outputs": [],
   "source": [
    "training_phrases=embedder('What is the share price of google')\n",
    "training_phrases=training_phrases.reshape(1,300)"
   ]
  },
  {
   "cell_type": "code",
   "execution_count": 15,
   "metadata": {},
   "outputs": [
    {
     "name": "stdout",
     "output_type": "stream",
     "text": [
      "Enter a training phase:what is the stock price of reliance today\n",
      "Enter a training phase:tell me the share value of hdfc bank today\n",
      "Enter a training phase:what was the stock price of nestle\n",
      "Enter a training phase:give the share value of SBI\n",
      "Enter a training phase:give the stock price of SBI\n",
      "Enter a training phase:what is the current stock price of NPTC\n",
      "Enter a training phase:what is the latest stock price of Wipro\n",
      "Enter a training phase:i want an update on the stock price of google\n",
      "Enter a training phase:update me on the stock price of ITC\n",
      "Enter a training phase:i need an update on the share value of larsen\n"
     ]
    }
   ],
   "source": [
    "training_phrases=training_phrase_adder_10(training_phrases)"
   ]
  },
  {
   "cell_type": "code",
   "execution_count": 16,
   "metadata": {},
   "outputs": [],
   "source": [
    "from numpy import save"
   ]
  },
  {
   "cell_type": "code",
   "execution_count": 17,
   "metadata": {},
   "outputs": [],
   "source": [
    "np.save('Stocks_phrases.npy',training_phrases)"
   ]
  },
  {
   "cell_type": "code",
   "execution_count": null,
   "metadata": {},
   "outputs": [],
   "source": []
  }
 ],
 "metadata": {
  "kernelspec": {
   "display_name": "Python 3",
   "language": "python",
   "name": "python3"
  },
  "language_info": {
   "codemirror_mode": {
    "name": "ipython",
    "version": 3
   },
   "file_extension": ".py",
   "mimetype": "text/x-python",
   "name": "python",
   "nbconvert_exporter": "python",
   "pygments_lexer": "ipython3",
   "version": "3.7.6"
  }
 },
 "nbformat": 4,
 "nbformat_minor": 4
}
