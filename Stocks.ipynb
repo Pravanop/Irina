{
 "cells": [
  {
   "cell_type": "code",
   "execution_count": 4,
   "metadata": {},
   "outputs": [],
   "source": [
    "from selenium import webdriver\n",
    "from selenium.webdriver.common.keys import Keys"
   ]
  },
  {
   "cell_type": "code",
<<<<<<< HEAD
   "execution_count": 3,
   "metadata": {},
   "outputs": [],
   "source": [
    "def stock_price(company):\n",
    "    driver = webdriver.Chrome('./chromedriver')\n",
    "    driver.get(\"https://www.google.com\") \n",
    "    import time \n",
    "    #time.sleep(1)\n",
    "    search_bar = driver.find_element_by_name(\"q\")\n",
    "    search_bar.clear()\n",
    "    search_bar.send_keys(company+'stock price')\n",
    "    search_bar.submit()\n",
    "    #time.sleep(1)\n",
    "    price= driver.find_element_by_css_selector(\"span[jsname='vWLAgc']\")\n",
    "    percent=driver.find_element_by_css_selector(\"span[jsname='rfaVEf']\")\n",
    "    driver.close()\n",
    "    return 'It is at'+ price.text + 'and' + percent.text "
=======
   "execution_count": 2,
   "metadata": {},
   "outputs": [],
   "source": [
    "class stock_price:\n",
    "    def stock_price(self,company):\n",
    "        driver = webdriver.Chrome('./chromedriver')\n",
    "        driver.get(\"https://www.google.com\") \n",
    "        import time \n",
    "        time.sleep(4)\n",
    "        search_bar = driver.find_element_by_name(\"q\")\n",
    "        search_bar.clear()\n",
    "        search_bar.send_keys(company+'stock price')\n",
    "        search_bar.submit()\n",
    "        time.sleep(5)\n",
    "        price= driver.find_element_by_css_selector(\"span[jsname='vWLAgc']\")\n",
    "        percent=driver.find_element_by_css_selector(\"span[jsname='rfaVEf']\")\n",
    "        driver.close()\n",
    "        return 'It is at'+ price.text + 'and' + percent.text "
>>>>>>> 4ac3e048215223ad6e54c1332625b1a9ad860d09
   ]
  },
  {
   "cell_type": "code",
<<<<<<< HEAD
=======
   "execution_count": 3,
   "metadata": {},
   "outputs": [],
   "source": [
    "stock_price=stock_price()"
   ]
  },
  {
   "cell_type": "code",
>>>>>>> 4ac3e048215223ad6e54c1332625b1a9ad860d09
   "execution_count": null,
   "metadata": {},
   "outputs": [],
   "source": []
  }
 ],
 "metadata": {
  "kernelspec": {
   "display_name": "Python 3",
   "language": "python",
   "name": "python3"
  },
  "language_info": {
   "codemirror_mode": {
    "name": "ipython",
    "version": 3
   },
   "file_extension": ".py",
   "mimetype": "text/x-python",
   "name": "python",
   "nbconvert_exporter": "python",
   "pygments_lexer": "ipython3",
   "version": "3.7.3"
  }
 },
 "nbformat": 4,
 "nbformat_minor": 4
}
