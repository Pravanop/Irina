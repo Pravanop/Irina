{
 "cells": [
  {
   "cell_type": "code",
   "execution_count": 19,
   "metadata": {},
   "outputs": [],
   "source": [
    "import re"
   ]
  },
  {
   "cell_type": "code",
   "execution_count": 14,
   "metadata": {},
   "outputs": [],
   "source": [
    "%run ST_conversion.ipynb"
   ]
  },
  {
   "cell_type": "code",
   "execution_count": 17,
   "metadata": {},
   "outputs": [],
   "source": [
    "#text=VoiceRecog()"
   ]
  },
  {
   "cell_type": "markdown",
   "metadata": {},
   "source": [
    "News Extractor"
   ]
  },
  {
   "cell_type": "code",
   "execution_count": 5,
   "metadata": {},
   "outputs": [],
   "source": [
    "%run news_scraping.ipynb"
   ]
  },
  {
   "cell_type": "code",
   "execution_count": 6,
   "metadata": {},
   "outputs": [],
   "source": [
    "def news_extractor():\n",
    "    Article=print_topNews()\n",
    "    Article_title=Article.title\n",
    "    Article_summary=Article.text\n",
    "    return Article_title,Article_summary"
   ]
  },
  {
   "cell_type": "code",
   "execution_count": 20,
   "metadata": {},
   "outputs": [],
   "source": [
    "%run youtube_videos.ipynb"
   ]
  },
  {
   "cell_type": "code",
   "execution_count": null,
   "metadata": {},
   "outputs": [],
   "source": [
    "if (text.find('news')== -1):\n",
    "    Article_title,Article_summary=news_extractor()\n",
    "    print(Article_title)\n",
    "    if (text.find('tell me more')== -1):\n",
    "        #ask which to expand, map each string to the corresponding index.\n",
    "        print(Article_summary)\n",
    "\n",
    "else if (text.find('play')== -1):\n",
    "    text= re.sub(r'play','',text)\n",
    "    video_play(text)\n",
    "else if (text.find('download')== -1):\n",
    "    condition='yes'\n",
    "    reponse = downloader(condition)\n",
    "    #send this reponse back to front-end\n"
   ]
  }
 ],
 "metadata": {
  "kernelspec": {
   "display_name": "Python 3",
   "language": "python",
   "name": "python3"
  },
  "language_info": {
   "codemirror_mode": {
    "name": "ipython",
    "version": 3
   },
   "file_extension": ".py",
   "mimetype": "text/x-python",
   "name": "python",
   "nbconvert_exporter": "python",
   "pygments_lexer": "ipython3",
   "version": "3.7.6"
  }
 },
 "nbformat": 4,
 "nbformat_minor": 4
}
