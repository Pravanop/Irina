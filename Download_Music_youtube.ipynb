{
 "cells": [
  {
   "cell_type": "code",
   "execution_count": 1,
   "metadata": {},
   "outputs": [],
   "source": [
    "import urllib.request\n",
    "import urllib.parse\n",
    "import re\n",
    "import webbrowser"
   ]
  },
  {
   "cell_type": "code",
   "execution_count": 2,
   "metadata": {},
   "outputs": [],
   "source": [
    "from selenium import webdriver\n",
    "from selenium.webdriver.common.keys import Keys"
   ]
  },
  {
   "cell_type": "code",
   "execution_count": 3,
   "metadata": {},
   "outputs": [],
   "source": [
    "query=\"Hello Adele\""
   ]
  },
  {
   "cell_type": "code",
   "execution_count": 4,
   "metadata": {},
   "outputs": [],
   "source": [
    "def video_play(query):\n",
    "    query_string = urllib.parse.urlencode({\"search_query\" : query})\n",
    "    html_content = urllib.request.urlopen(\"http://www.youtube.com/results?\" + query_string)\n",
    "    search_results = re.findall(r'href=\\\"\\/watch\\?v=(.{11})', html_content.read().decode())\n",
    "    link =\"http://www.youtube.com/watch?v=\" + search_results[0]\n",
    "    return link"
   ]
  },
  {
   "cell_type": "code",
   "execution_count": 5,
   "metadata": {},
   "outputs": [],
   "source": [
    "link = video_play(query)"
   ]
  },
  {
   "cell_type": "code",
   "execution_count": 7,
   "metadata": {},
   "outputs": [
    {
     "name": "stdout",
     "output_type": "stream",
     "text": [
      "Do I download this song?yes\n"
     ]
    }
   ],
   "source": [
    "check_download=input(\"Do I download this song?\")"
   ]
  },
  {
   "cell_type": "code",
   "execution_count": 8,
   "metadata": {},
   "outputs": [],
   "source": [
    "def downloader(condition):\n",
    "    if \"yes\" in condition.lower() or (\"play\" in condition.lower() and \"don't\" not in condition.lower()):\n",
    "        driver = webdriver.Chrome('./chromedriver')\n",
    "        driver.get(\"https://ytmp3.cc/en13/\") #https://ytmp3.cc/en13/\n",
    "        search_bar = driver.find_element_by_id(\"input\")\n",
    "        search_bar.clear()\n",
    "        search_bar.send_keys(link)\n",
    "        driver.find_element_by_id(\"submit\").click()\n",
    "        import time \n",
    "        time.sleep(4)\n",
    "        driver.find_element_by_link_text('Download').click()\n",
    "        time.sleep(35)\n",
    "        driver.quit()\n",
    "        return \"It is done,Sir\""
   ]
  }
 ],
 "metadata": {
  "kernelspec": {
   "display_name": "Python 3",
   "language": "python",
   "name": "python3"
  },
  "language_info": {
   "codemirror_mode": {
    "name": "ipython",
    "version": 3
   },
   "file_extension": ".py",
   "mimetype": "text/x-python",
   "name": "python",
   "nbconvert_exporter": "python",
   "pygments_lexer": "ipython3",
   "version": "3.7.6"
  }
 },
 "nbformat": 4,
 "nbformat_minor": 4
}
