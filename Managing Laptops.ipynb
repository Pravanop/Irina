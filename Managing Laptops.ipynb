{
 "cells": [
  {
   "cell_type": "code",
   "execution_count": 1,
   "metadata": {},
   "outputs": [],
   "source": [
    "#opening apps\n",
    "#controlling specific softwares"
   ]
  },
  {
   "cell_type": "markdown",
   "metadata": {},
   "source": [
    "Opening apps"
   ]
  },
  {
   "cell_type": "code",
   "execution_count": 21,
   "metadata": {},
   "outputs": [
    {
     "data": {
      "text/plain": [
       "0"
      ]
     },
     "execution_count": 21,
     "metadata": {},
     "output_type": "execute_result"
    }
   ],
   "source": [
    "# Rishab Chitgopekar fill code\n",
    "import os\n",
    "os.system(\"start cmd\")"
   ]
  },
  {
   "cell_type": "markdown",
   "metadata": {},
   "source": [
    "Controlling specific softwares"
   ]
  },
  {
   "cell_type": "code",
   "execution_count": 4,
   "metadata": {},
   "outputs": [],
   "source": [
    "#combination of hardcoding and taking control of keyboard and mouse"
   ]
  },
  {
   "cell_type": "code",
   "execution_count": 2,
   "metadata": {},
   "outputs": [],
   "source": [
    "#trial1: opening jupyter notebook\n",
    "import pyautogui"
   ]
  },
  {
   "cell_type": "code",
   "execution_count": 22,
   "metadata": {},
   "outputs": [],
   "source": [
    "def open_jupyter_notebook():\n",
    "    pyautogui.moveTo(300,1504,duration=0.4)\n",
    "    pyautogui.click(x=300, y=1475, clicks=2,interval=0.5, button='left')\n",
    "    pyautogui.PAUSE=0.5\n",
    "    pyautogui.typewrite('Anaconda Prompt\\n', interval=0.05)\n",
    "    pyautogui.PAUSE=0.5\n",
    "    pyautogui.typewrite('activate opencv\\n',interval=0.05)\n",
    "    pyautogui.PAUSE=0.5\n",
    "    pyautogui.typewrite('jupyter notebook\\n',interval=0.05)\n",
    "    return 0"
   ]
  },
  {
   "cell_type": "code",
   "execution_count": 42,
   "metadata": {},
   "outputs": [],
   "source": [
    "def home_bar_access():\n",
    "    pyautogui.moveTo(300,1504,duration=0.4)\n",
    "    pyautogui.click(x=300, y=1475, clicks=2,interval=0.5, button='left')\n",
    "    pyautogui.PAUSE=0.5\n",
    "    return 0"
   ]
  },
  {
   "cell_type": "code",
   "execution_count": 32,
   "metadata": {},
   "outputs": [],
   "source": [
    "#trial2:sending a message from whatsapp desktop\n",
    "def send_message_on_whatsapp_desktop():\n",
    "    \n",
    "    home_bar_access()\n",
    "    pyautogui.typewrite('WhatsApp Desktop\\n', interval=0.05)\n",
    "    pyautogui.PAUSE=3\n",
    "    pyautogui.moveTo(300,250,duration=0.4)\n",
    "    pyautogui.click(x=300,y=150,clicks=1,button='left')\n",
    "    pyautogui.typewrite('Le Memers\\n', interval=0.1)\n",
    "    pyautogui.click(x=1500,y=1450,clicks=1,button='left')\n",
    "    pyautogui.typewrite('Hi,this is Irina.I am actually an Intuitive and Rather Intelligent Natural Assistant\\n', interval=0.1)\n",
    "    return 0"
   ]
  },
  {
   "cell_type": "code",
   "execution_count": 61,
   "metadata": {},
   "outputs": [],
   "source": [
    "#trail3:opening unread mails in google\n",
    "home_bar_access()\n",
    "pyautogui.typewrite('Google Chrome\\n',interval=0.05)\n",
    "pyautogui.click(x=300,y=50,clicks=1,button='left')\n",
    "pyautogui.typewrite('pravanop@gmail.com',interval=0.15)\n",
    "pyautogui.typewrite(['down'])\n",
    "pyautogui.typewrite(['enter'])\n",
    "pyautogui.PAUSE=10\n",
    "pyautogui.moveTo(150,300,duration=0.5)\n",
    "pyautogui.click(150,300,clicks=1,button='left')\n",
    "pyautogui.PAUSE=5\n",
    "pyautogui.typewrite('pravanop@gmail.com\\n',interval=0.15)\n",
    "pyautogui.typewrite(['tab'])\n",
    "pyautogui.typewrite('first mail to myself\\n')\n",
    "pyautogui.typewrite(['tab'])\n",
    "pyautogui.typewrite('Sent from Irina\\n')\n",
    "pyautogui.keyDown('ctrl')\n",
    "pyautogui.press('enter')\n",
    "pyautogui.keyUp('ctrl')"
   ]
  },
  {
   "cell_type": "code",
   "execution_count": 39,
   "metadata": {},
   "outputs": [
    {
     "data": {
      "text/plain": [
       "['\\t',\n",
       " '\\n',\n",
       " '\\r',\n",
       " ' ',\n",
       " '!',\n",
       " '\"',\n",
       " '#',\n",
       " '$',\n",
       " '%',\n",
       " '&',\n",
       " \"'\",\n",
       " '(',\n",
       " ')',\n",
       " '*',\n",
       " '+',\n",
       " ',',\n",
       " '-',\n",
       " '.',\n",
       " '/',\n",
       " '0',\n",
       " '1',\n",
       " '2',\n",
       " '3',\n",
       " '4',\n",
       " '5',\n",
       " '6',\n",
       " '7',\n",
       " '8',\n",
       " '9',\n",
       " ':',\n",
       " ';',\n",
       " '<',\n",
       " '=',\n",
       " '>',\n",
       " '?',\n",
       " '@',\n",
       " '[',\n",
       " '\\\\',\n",
       " ']',\n",
       " '^',\n",
       " '_',\n",
       " '`',\n",
       " 'a',\n",
       " 'b',\n",
       " 'c',\n",
       " 'd',\n",
       " 'e',\n",
       " 'f',\n",
       " 'g',\n",
       " 'h',\n",
       " 'i',\n",
       " 'j',\n",
       " 'k',\n",
       " 'l',\n",
       " 'm',\n",
       " 'n',\n",
       " 'o',\n",
       " 'p',\n",
       " 'q',\n",
       " 'r',\n",
       " 's',\n",
       " 't',\n",
       " 'u',\n",
       " 'v',\n",
       " 'w',\n",
       " 'x',\n",
       " 'y',\n",
       " 'z',\n",
       " '{',\n",
       " '|',\n",
       " '}',\n",
       " '~',\n",
       " 'accept',\n",
       " 'add',\n",
       " 'alt',\n",
       " 'altleft',\n",
       " 'altright',\n",
       " 'apps',\n",
       " 'backspace',\n",
       " 'browserback',\n",
       " 'browserfavorites',\n",
       " 'browserforward',\n",
       " 'browserhome',\n",
       " 'browserrefresh',\n",
       " 'browsersearch',\n",
       " 'browserstop',\n",
       " 'capslock',\n",
       " 'clear',\n",
       " 'convert',\n",
       " 'ctrl',\n",
       " 'ctrlleft',\n",
       " 'ctrlright',\n",
       " 'decimal',\n",
       " 'del',\n",
       " 'delete',\n",
       " 'divide',\n",
       " 'down',\n",
       " 'end',\n",
       " 'enter',\n",
       " 'esc',\n",
       " 'escape',\n",
       " 'execute',\n",
       " 'f1',\n",
       " 'f10',\n",
       " 'f11',\n",
       " 'f12',\n",
       " 'f13',\n",
       " 'f14',\n",
       " 'f15',\n",
       " 'f16',\n",
       " 'f17',\n",
       " 'f18',\n",
       " 'f19',\n",
       " 'f2',\n",
       " 'f20',\n",
       " 'f21',\n",
       " 'f22',\n",
       " 'f23',\n",
       " 'f24',\n",
       " 'f3',\n",
       " 'f4',\n",
       " 'f5',\n",
       " 'f6',\n",
       " 'f7',\n",
       " 'f8',\n",
       " 'f9',\n",
       " 'final',\n",
       " 'fn',\n",
       " 'hanguel',\n",
       " 'hangul',\n",
       " 'hanja',\n",
       " 'help',\n",
       " 'home',\n",
       " 'insert',\n",
       " 'junja',\n",
       " 'kana',\n",
       " 'kanji',\n",
       " 'launchapp1',\n",
       " 'launchapp2',\n",
       " 'launchmail',\n",
       " 'launchmediaselect',\n",
       " 'left',\n",
       " 'modechange',\n",
       " 'multiply',\n",
       " 'nexttrack',\n",
       " 'nonconvert',\n",
       " 'num0',\n",
       " 'num1',\n",
       " 'num2',\n",
       " 'num3',\n",
       " 'num4',\n",
       " 'num5',\n",
       " 'num6',\n",
       " 'num7',\n",
       " 'num8',\n",
       " 'num9',\n",
       " 'numlock',\n",
       " 'pagedown',\n",
       " 'pageup',\n",
       " 'pause',\n",
       " 'pgdn',\n",
       " 'pgup',\n",
       " 'playpause',\n",
       " 'prevtrack',\n",
       " 'print',\n",
       " 'printscreen',\n",
       " 'prntscrn',\n",
       " 'prtsc',\n",
       " 'prtscr',\n",
       " 'return',\n",
       " 'right',\n",
       " 'scrolllock',\n",
       " 'select',\n",
       " 'separator',\n",
       " 'shift',\n",
       " 'shiftleft',\n",
       " 'shiftright',\n",
       " 'sleep',\n",
       " 'space',\n",
       " 'stop',\n",
       " 'subtract',\n",
       " 'tab',\n",
       " 'up',\n",
       " 'volumedown',\n",
       " 'volumemute',\n",
       " 'volumeup',\n",
       " 'win',\n",
       " 'winleft',\n",
       " 'winright',\n",
       " 'yen',\n",
       " 'command',\n",
       " 'option',\n",
       " 'optionleft',\n",
       " 'optionright']"
      ]
     },
     "execution_count": 39,
     "metadata": {},
     "output_type": "execute_result"
    }
   ],
   "source": [
    "pyautogui.KEYBOARD_KEYS"
   ]
  },
  {
   "cell_type": "code",
   "execution_count": 40,
   "metadata": {},
   "outputs": [],
   "source": [
    "pyautogui.typewrite(['launchmail'])"
   ]
  },
  {
   "cell_type": "code",
   "execution_count": 19,
   "metadata": {},
   "outputs": [],
   "source": [
    "pyautogui.press('command')"
   ]
  },
  {
   "cell_type": "code",
   "execution_count": null,
   "metadata": {},
   "outputs": [],
   "source": []
  }
 ],
 "metadata": {
  "kernelspec": {
   "display_name": "Python 3",
   "language": "python",
   "name": "python3"
  },
  "language_info": {
   "codemirror_mode": {
    "name": "ipython",
    "version": 3
   },
   "file_extension": ".py",
   "mimetype": "text/x-python",
   "name": "python",
   "nbconvert_exporter": "python",
   "pygments_lexer": "ipython3",
   "version": "3.7.6"
  }
 },
 "nbformat": 4,
 "nbformat_minor": 4
}
